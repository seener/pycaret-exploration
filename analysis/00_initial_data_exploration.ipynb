{
 "cells": [
  {
   "cell_type": "code",
   "execution_count": null,
   "metadata": {},
   "outputs": [],
   "source": [
    "# add the py-helper modules path for import\n",
    "import sys\n",
    "import os\n",
    "\n",
    "root = os.path.expanduser('~') \n",
    "sys.path.insert(1, f'{root}/Projects/py-helper')"
   ]
  },
  {
   "cell_type": "code",
   "execution_count": null,
   "metadata": {},
   "outputs": [],
   "source": [
    "import file_system as fs\n",
    "import metadata as md\n",
    "import pandas as pd\n",
    "import simplejson as json\n",
    "from IPython.display import display, HTML"
   ]
  },
  {
   "cell_type": "code",
   "execution_count": null,
   "metadata": {},
   "outputs": [],
   "source": [
    "def check_contents(data_path, msg_on=True):\n",
    "    # if an archive is provide then get the list of files within the archive\n",
    "    if data_path[-3:] == \"zip\":\n",
    "        content, m = fs.inspect_zip(data_path)\n",
    "        if msg_on:\n",
    "            print (data_path)\n",
    "            # give the list of files contents in the archive\n",
    "            for f in content:\n",
    "                print(f'  {f}')"
   ]
  },
  {
   "cell_type": "code",
   "execution_count": null,
   "metadata": {},
   "outputs": [],
   "source": [
    "# source files\n",
    "zips = (f'{root}/Downloads/14100312-eng.zip'\n",
    "         , f'{root}/Downloads/14100092-eng.zip'\n",
    "         , f'{root}/Downloads/14100090-eng.zip')"
   ]
  },
  {
   "cell_type": "code",
   "execution_count": null,
   "metadata": {},
   "outputs": [],
   "source": [
    "# inspect the contents of the zip files\n",
    "for z in zips:\n",
    "    # contents of the zip file, list out the files and extract\n",
    "    check_contents(z)\n",
    "    msg = fs.extract_files(z)\n",
    "    print (msg)\n",
    "    print ('-----------------------------------------------------------------------------------------')"
   ]
  },
  {
   "cell_type": "code",
   "execution_count": null,
   "metadata": {},
   "outputs": [],
   "source": [
    "files = (f'{root}/Downloads/14100312.csv'\n",
    "         , f'{root}/Downloads/14100092.csv'\n",
    "         , f'{root}/Downloads/14100090.csv')\n",
    "\n",
    "for f in files:\n",
    "    data = pd.read_csv(f)\n",
    "    display(HTML(data.head(5).to_html()))\n",
    "    meta_dict, m = md.generate_meta_table(data, f)\n",
    "    print(f'Created metadata for {f}')\n",
    "    f_name = f.split('/')[-1][:-4]\n",
    "    meta_out = os.path.realpath(f\"../data/{f_name}-meta.json\")\n",
    "    with open(meta_out, 'w') as out:\n",
    "        json.dump(meta_dict, out, ignore_nan=True, indent='  ')\n",
    "    print(f'The metadata json object has been output to: {meta_out}')\n",
    "    print ('-----------------------------------------------------------------------------------------')"
   ]
  },
  {
   "cell_type": "code",
   "execution_count": null,
   "metadata": {},
   "outputs": [],
   "source": []
  }
 ],
 "metadata": {
  "kernelspec": {
   "display_name": "k-pce",
   "language": "python",
   "name": "k-pce"
  },
  "language_info": {
   "codemirror_mode": {
    "name": "ipython",
    "version": 3
   },
   "file_extension": ".py",
   "mimetype": "text/x-python",
   "name": "python",
   "nbconvert_exporter": "python",
   "pygments_lexer": "ipython3",
   "version": "3.8.5"
  }
 },
 "nbformat": 4,
 "nbformat_minor": 2
}